{
  "nbformat": 4,
  "nbformat_minor": 0,
  "metadata": {
    "colab": {
      "provenance": [],
      "authorship_tag": "ABX9TyNlMlEfcG++kB0idxiGPnUC",
      "include_colab_link": true
    },
    "kernelspec": {
      "name": "python3",
      "display_name": "Python 3"
    },
    "language_info": {
      "name": "python"
    }
  },
  "cells": [
    {
      "cell_type": "markdown",
      "metadata": {
        "id": "view-in-github",
        "colab_type": "text"
      },
      "source": [
        "<a href=\"https://colab.research.google.com/github/Vanx-Mass/gerenciador_de_habitos.py/blob/melhorias/demonstracao_gerenciador_de_habitos.ipynb\" target=\"_parent\"><img src=\"https://colab.research.google.com/assets/colab-badge.svg\" alt=\"Open In Colab\"/></a>"
      ]
    },
    {
      "cell_type": "markdown",
      "source": [
        "🧠 Gerenciador de Hábitos - Demonstração\n",
        "Projeto simples de terminal em Python para criar e listar hábitos."
      ],
      "metadata": {
        "id": "M-Tf7l6E79Vb"
      }
    },
    {
      "cell_type": "markdown",
      "source": [
        "## Pré-requisitos\n",
        "Este projeto funciona apenas com Python puro. Basta copiar o código nos blocos abaixo."
      ],
      "metadata": {
        "id": "13avK-Nf8GtT"
      }
    },
    {
      "cell_type": "code",
      "source": [
        "# Célula 1 – Definindo as funções\n",
        "def adicionar_habito(habitos):\n",
        "    nome = input(\"Digite o nome do hábito: \")\n",
        "    categoria = input(\"Categoria (ex: Saúde, Estudo): \")\n",
        "    habito = {\"nome\": nome, \"categoria\": categoria, \"historico\": []}\n",
        "    habitos.append(habito)\n",
        "    print(f\"\\n✅ Hábito '{nome}' adicionado com sucesso!\\n\")\n",
        "\n",
        "def listar_habitos(habitos):\n",
        "    if not habitos:\n",
        "        print(\"Nenhum hábito cadastrado.\")\n",
        "        return\n",
        "    print(\"\\n📋 Seus hábitos:\")\n",
        "    for i, h in enumerate(habitos, start=1):\n",
        "        print(f\"{i}. {h['nome']} ({h['categoria']})\")\n"
      ],
      "metadata": {
        "id": "TAK-YK398FlQ"
      },
      "execution_count": null,
      "outputs": []
    },
    {
      "cell_type": "code",
      "source": [
        "# 🔹 Célula 2 – Inicializando a lista de hábitos\n",
        "# Inicialização com TESTE = True\n",
        "TESTE = True\n",
        "\n",
        "if TESTE:\n",
        "    habitos = [\n",
        "        {\"nome\": \"Beber água\", \"categoria\": \"Saúde\", \"historico\": []},\n",
        "        {\"nome\": \"Estudar Python\", \"categoria\": \"Estudo\", \"historico\": []},\n",
        "    ]\n",
        "else:\n",
        "    habitos = []\n"
      ],
      "metadata": {
        "id": "T-rUWwkh9G_G"
      },
      "execution_count": null,
      "outputs": []
    },
    {
      "cell_type": "code",
      "source": [
        "# Célula 3 - Simulando o uso\n",
        "# Adicionando e listando hábitos\n",
        "adicionar_habito(habitos)\n",
        "listar_habitos(habitos)\n"
      ],
      "metadata": {
        "id": "jjvVekn69O9m"
      },
      "execution_count": null,
      "outputs": []
    },
    {
      "cell_type": "code",
      "source": [
        "#Célula 4 - Testes automatizados\n",
        "import unittest\n",
        "\n",
        "class TestHabitos(unittest.TestCase):\n",
        "    def test_adicionar_habito_simulado(self):\n",
        "        lista = []\n",
        "        habito = {\"nome\": \"Ler\", \"categoria\": \"Crescimento\", \"historico\": []}\n",
        "        lista.append(habito)\n",
        "        self.assertEqual(len(lista), 1)\n",
        "        self.assertEqual(lista[0][\"nome\"], \"Ler\")\n",
        "\n",
        "unittest.main(argv=[''], exit=False)\n"
      ],
      "metadata": {
        "id": "pvxtakkT9WcH"
      },
      "execution_count": null,
      "outputs": []
    }
  ]
}